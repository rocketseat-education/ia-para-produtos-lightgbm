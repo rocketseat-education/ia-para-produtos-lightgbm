{
 "cells": [
  {
   "cell_type": "code",
   "execution_count": 63,
   "metadata": {},
   "outputs": [],
   "source": [
    "# pipenv install pandas plotly scikit-learn lightgbm bayesian-optimization ipykernel ipywidgets nbformat matplotlib\n",
    "# No Mac, instalar biblioteca libomp: brew install libomp\n",
    "\n",
    "# Importar bibliotecas\n",
    "import pandas as pd\n",
    "import numpy as np\n",
    "\n",
    "# Visualização\n",
    "import plotly.express as px\n",
    "import matplotlib.pyplot as plt\n",
    "\n",
    "# Configuracões\n",
    "pd.set_option('display.float_format', lambda x: '%.3f' % x)\n",
    "np.printoptions(suppress=True, precision=3)\n",
    "\n",
    "# Machine Learning\n",
    "from lightgbm import LGBMClassifier, early_stopping, plot_tree, plot_importance\n",
    "from sklearn.model_selection import train_test_split\n",
    "from sklearn.metrics import confusion_matrix, classification_report, \\\n",
    "                            ConfusionMatrixDisplay, log_loss\n",
    "\n",
    "# Otimização Bayesiana\n",
    "from bayes_opt import BayesianOptimization"
   ]
  },
  {
   "cell_type": "markdown",
   "metadata": {},
   "source": [
    "### Carregar os dados"
   ]
  },
  {
   "cell_type": "code",
   "execution_count": 64,
   "metadata": {},
   "outputs": [],
   "source": [
    "df_vinhos = pd.read_csv('./datasets/wine_data.csv')"
   ]
  },
  {
   "cell_type": "markdown",
   "metadata": {},
   "source": [
    "### Visualizar Estrutura"
   ]
  },
  {
   "cell_type": "code",
   "execution_count": null,
   "metadata": {},
   "outputs": [],
   "source": [
    "df_vinhos.info()"
   ]
  },
  {
   "cell_type": "code",
   "execution_count": null,
   "metadata": {},
   "outputs": [],
   "source": [
    "# Visualizar primeiros registros\n",
    "df_vinhos.head(10)"
   ]
  },
  {
   "cell_type": "code",
   "execution_count": null,
   "metadata": {},
   "outputs": [],
   "source": [
    "# Visualizar últimos registros\n",
    "df_vinhos.tail(10)"
   ]
  },
  {
   "cell_type": "code",
   "execution_count": null,
   "metadata": {},
   "outputs": [],
   "source": [
    "# Estatisitcas descritivas\n",
    "df_vinhos.describe()"
   ]
  },
  {
   "cell_type": "markdown",
   "metadata": {},
   "source": [
    "### EDA"
   ]
  },
  {
   "cell_type": "code",
   "execution_count": null,
   "metadata": {},
   "outputs": [],
   "source": [
    "# Distribuição das variáveis numéricas\n",
    "numerical_cols = df_vinhos.drop(columns='quality').columns\n",
    "\n",
    "# Visualizar distribuição das variáveis numéricas\n",
    "for col in numerical_cols:\n",
    "    fig = px.histogram(df_vinhos, x=col, nbins=20 ,title=f'Distribuição de {col}')\n",
    "    fig.show()"
   ]
  },
  {
   "cell_type": "code",
   "execution_count": null,
   "metadata": {},
   "outputs": [],
   "source": [
    "# Visualizar distribuição da variável target\n",
    "df_count = df_vinhos['quality'].value_counts().reset_index()\n",
    "df_count.columns = ['quality', 'contagem']\n",
    "\n",
    "fig = px.bar(df_count, x='quality', y='contagem', title='Distribuição da variável target')\n",
    "fig.show()"
   ]
  },
  {
   "cell_type": "code",
   "execution_count": null,
   "metadata": {},
   "outputs": [],
   "source": [
    "# Analisando relação entre variáveis numéricas e target\n",
    "for col in numerical_cols:\n",
    "    fig = px.box(df_vinhos, x='quality', y=col, title=f'Relação entre {col} e quality')\n",
    "    fig.show()"
   ]
  },
  {
   "cell_type": "code",
   "execution_count": null,
   "metadata": {},
   "outputs": [],
   "source": [
    "# Matriz de Correlação\n",
    "corr = df_vinhos.corr()\n",
    "\n",
    "# Heatmap da matriz de correlação\n",
    "fig = px.imshow(\n",
    "  corr, \n",
    "  color_continuous_scale='armyrose', \n",
    "  title='Matriz de Correlação',\n",
    "  zmin=-1,\n",
    "  zmax=1\n",
    ")\n",
    "\n",
    "fig.update_traces(text=corr, texttemplate='%{text:.2f}', textfont_size=9)\n",
    "fig.update_layout(\n",
    "  width=1000,\n",
    "  height=600,\n",
    "  title_font=dict(size=14),\n",
    "  font=dict(size=10),\n",
    ")\n",
    "fig.show()"
   ]
  },
  {
   "cell_type": "markdown",
   "metadata": {},
   "source": [
    "### Preparação dos dados"
   ]
  },
  {
   "cell_type": "code",
   "execution_count": 73,
   "metadata": {},
   "outputs": [],
   "source": [
    "# Separar X e Y\n",
    "X = df_vinhos.drop(columns=['quality'], axis=1)\n",
    "y = df_vinhos['quality']"
   ]
  },
  {
   "cell_type": "code",
   "execution_count": 74,
   "metadata": {},
   "outputs": [],
   "source": [
    "# Separar entre Treino, Validação e Teste\n",
    "X_train, X_val_test, y_train, y_val_test = train_test_split(X, y, test_size=0.5, random_state=51)\n",
    "X_val, X_test, y_val, y_test = train_test_split(X_val_test, y_val_test, test_size=0.5, random_state=51)"
   ]
  },
  {
   "cell_type": "markdown",
   "metadata": {},
   "source": [
    "### Treinar modelo LightGBM usando Otimização Bayesiana"
   ]
  },
  {
   "cell_type": "code",
   "execution_count": 75,
   "metadata": {},
   "outputs": [],
   "source": [
    "# Definir grade de hiperparâmetros a serem otimizados\n",
    "grade_hiperparametros = {\n",
    "  'num_leaves': (10, 100),\n",
    "  'max_depth': (3, 15),\n",
    "  'learning_rate': (0.01, 0.3),\n",
    "  'min_data_in_leaf': (5, 50),\n",
    "  'feature_fraction': (0.5, 0.8)\n",
    "}"
   ]
  },
  {
   "cell_type": "code",
   "execution_count": 76,
   "metadata": {},
   "outputs": [],
   "source": [
    "# Criar função para o modelo LightGBM\n",
    "def lightgbm_evaluate(num_leaves, max_depth, learning_rate, min_data_in_leaf, feature_fraction):\n",
    "  model = LGBMClassifier(\n",
    "    num_leaves=int(num_leaves),\n",
    "    max_depth=int(max_depth),\n",
    "    learning_rate=learning_rate,\n",
    "    min_data_in_leaf=int(min_data_in_leaf),\n",
    "    feature_fraction=feature_fraction,\n",
    "    n_estimators=100\n",
    "  )\n",
    "\n",
    "  # Treinar o modelo com early stopping\n",
    "  model.fit(X_train, \n",
    "            y_train,\n",
    "            eval_set=[(X_val, y_val)],\n",
    "            eval_metric='multi_logloss',\n",
    "            callbacks=[early_stopping(5)],\n",
    "  )\n",
    "\n",
    "  # Métrica de avaliação\n",
    "  best_score = model.best_score_['valid_0']['multi_logloss']\n",
    "\n",
    "  return -best_score"
   ]
  },
  {
   "cell_type": "code",
   "execution_count": null,
   "metadata": {},
   "outputs": [],
   "source": [
    "# Otimização Bayesiana\n",
    "optimizer = BayesianOptimization(f=lightgbm_evaluate, pbounds=grade_hiperparametros, random_state=51)\n",
    "optimizer.maximize(init_points=5, n_iter=2)"
   ]
  },
  {
   "cell_type": "code",
   "execution_count": 78,
   "metadata": {},
   "outputs": [
    {
     "name": "stdout",
     "output_type": "stream",
     "text": [
      "Melhores hiperparâmetros encontrados: {'target': np.float64(-1.3632796290151727), 'params': {'feature_fraction': np.float64(0.7263915175522024), 'learning_rate': np.float64(0.22132614082794025), 'max_depth': np.float64(9.777131264694447), 'min_data_in_leaf': np.float64(37.13546279353573), 'num_leaves': np.float64(62.412047249516874)}}\n"
     ]
    }
   ],
   "source": [
    "# Melhor combinação de hiperparâmetros\n",
    "print(\"Melhores hiperparâmetros encontrados:\", optimizer.max)"
   ]
  },
  {
   "cell_type": "markdown",
   "metadata": {},
   "source": [
    "### Validar Resultados"
   ]
  },
  {
   "cell_type": "code",
   "execution_count": null,
   "metadata": {},
   "outputs": [],
   "source": [
    "# Treinar modelo com melhores hiperparâmetros\n",
    "best_params = optimizer.max['params']\n",
    "\n",
    "best_model = LGBMClassifier(\n",
    "  num_leaves=int(best_params['num_leaves']),\n",
    "  max_depth=int(best_params['max_depth']),\n",
    "  learning_rate=best_params['learning_rate'],\n",
    "  min_data_in_leaf=int(best_params['min_data_in_leaf']),\n",
    "  feature_fraction=best_params['feature_fraction'],\n",
    "  n_estimators=100\n",
    ")\n",
    "\n",
    "# Treinar modelo\n",
    "best_model.fit(X_train, y_train)"
   ]
  },
  {
   "cell_type": "code",
   "execution_count": null,
   "metadata": {},
   "outputs": [],
   "source": [
    "# Fazer prediçoões\n",
    "y_pred = best_model.predict(X_test)\n",
    "y_pred"
   ]
  },
  {
   "cell_type": "code",
   "execution_count": null,
   "metadata": {},
   "outputs": [],
   "source": [
    "# Fazer predições de probabilidade\n",
    "y_pred_proba = best_model.predict_proba(X_test)\n",
    "y_pred_proba"
   ]
  },
  {
   "cell_type": "code",
   "execution_count": null,
   "metadata": {},
   "outputs": [],
   "source": [
    "# Relatório de classificação\n",
    "print(classification_report(y_test, y_pred))"
   ]
  },
  {
   "cell_type": "code",
   "execution_count": null,
   "metadata": {},
   "outputs": [],
   "source": [
    "# Matriz de confusão\n",
    "cm = confusion_matrix(y_test, y_pred)\n",
    "fig = ConfusionMatrixDisplay(cm, display_labels=best_model.classes_)\n",
    "fig.plot()"
   ]
  },
  {
   "cell_type": "code",
   "execution_count": null,
   "metadata": {},
   "outputs": [],
   "source": [
    "# Log Loss\n",
    "log_loss(y_test, y_pred_proba)"
   ]
  }
 ],
 "metadata": {
  "kernelspec": {
   "display_name": "ia-para-produtos-lightgbm-2t9XtPRj",
   "language": "python",
   "name": "python3"
  },
  "language_info": {
   "codemirror_mode": {
    "name": "ipython",
    "version": 3
   },
   "file_extension": ".py",
   "mimetype": "text/x-python",
   "name": "python",
   "nbconvert_exporter": "python",
   "pygments_lexer": "ipython3",
   "version": "3.13.1"
  }
 },
 "nbformat": 4,
 "nbformat_minor": 2
}
